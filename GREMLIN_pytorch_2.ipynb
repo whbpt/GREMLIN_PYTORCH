{
  "nbformat": 4,
  "nbformat_minor": 0,
  "metadata": {
    "colab": {
      "name": "GREMLIN_pytorch.ipynb",
      "provenance": [],
      "collapsed_sections": [],
      "toc_visible": true,
      "include_colab_link": true
    },
    "kernelspec": {
      "name": "python3",
      "display_name": "Python 3"
    },
    "accelerator": "GPU"
  },
  "cells": [
    {
      "cell_type": "markdown",
      "metadata": {
        "id": "view-in-github",
        "colab_type": "text"
      },
      "source": [
        "<a href=\"https://colab.research.google.com/github/whbpt/GREMLIN_PYTORCH/blob/master/GREMLIN_pytorch_2.ipynb\" target=\"_parent\"><img src=\"https://colab.research.google.com/assets/colab-badge.svg\" alt=\"Open In Colab\"/></a>"
      ]
    },
    {
      "cell_type": "markdown",
      "metadata": {
        "id": "3SHD25hwV_FA",
        "colab_type": "text"
      },
      "source": [
        "## GREMLIN_pytorch\n",
        "\n",
        "This is a bare minimum version of GREMLIN (no gap removal, etc), intended for educational/demo purposes.  For the full version see [GREMLIN_TF_v2.1](https://colab.research.google.com/github/sokrypton/GREMLIN_CPP/blob/master/GREMLIN_TF.ipynb) "
      ]
    },
    {
      "cell_type": "code",
      "metadata": {
        "id": "dyhXMSv5HbpK",
        "colab_type": "code",
        "colab": {}
      },
      "source": [
        "# ------------------------------------------------------------\n",
        "# \"THE BEERWARE LICENSE\" (Revision 42):\n",
        "# <so@g.harvard.edu> and <pkk382@g.harvard.edu> wrote this code.\n",
        "# As long as you retain this notice, you can do whatever you want\n",
        "# with this stuff. If we meet someday, and you think this stuff\n",
        "# is worth it, you can buy us a beer in return.\n",
        "# --Sergey Ovchinnikov and Peter Koo\n",
        "# ------------------------------------------------------------\n",
        "\n",
        "###reimplemented with pytorch by haobo wang, 20190323\n",
        "# \"THE APPLE CIDER LICENSE\" :\n",
        "# As long as you retain this notice, you can do whatever you want\n",
        "# with this stuff. If we meet someday, and you think this stuff\n",
        "# is worth it, you can buy me an apple cider in return."
      ],
      "execution_count": 0,
      "outputs": []
    },
    {
      "cell_type": "markdown",
      "metadata": {
        "id": "ZdGBxCYlURSw",
        "colab_type": "text"
      },
      "source": [
        "## Load some libraries"
      ]
    },
    {
      "cell_type": "code",
      "metadata": {
        "id": "aJcHKRLQQAS4",
        "colab_type": "code",
        "colab": {}
      },
      "source": [
        "import numpy as np\n",
        "import matplotlib.pylab as plt\n",
        "import torch\n",
        "import torch.nn.functional as F\n",
        "import torch.nn.modules as modules\n",
        "from torch.autograd import Variable\n",
        "from torch import optim"
      ],
      "execution_count": 0,
      "outputs": []
    },
    {
      "cell_type": "markdown",
      "metadata": {
        "id": "ijbQXxzlYKAk",
        "colab_type": "text"
      },
      "source": [
        "## Convert FASTA to MSA np.array()"
      ]
    },
    {
      "cell_type": "code",
      "metadata": {
        "id": "wU8Gzh1FQEZl",
        "colab_type": "code",
        "colab": {}
      },
      "source": [
        "def parse_fasta(filename):\n",
        "  '''function to parse fasta file'''\n",
        "  header = []\n",
        "  sequence = []\n",
        "  lines = open(filename, \"r\")\n",
        "  for line in lines:\n",
        "    line = line.rstrip()\n",
        "    if line[0] == \">\":\n",
        "      header.append(line[1:])\n",
        "      sequence.append([])\n",
        "    else:\n",
        "      sequence[-1].append(line)\n",
        "  lines.close()\n",
        "  sequence = [''.join(seq) for seq in sequence]\n",
        "  return np.array(header), np.array(sequence)\n",
        "\n",
        "def one_hot(msa,states):\n",
        "  one = np.eye(states)\n",
        "  return one[msa]\n",
        "\n",
        "def mk_msa(seqs):\n",
        "  '''one hot encode msa'''\n",
        "  \n",
        "  ################\n",
        "  alphabet = \"ARNDCQEGHILKMFPSTWYV-\"\n",
        "  states = len(alphabet)\n",
        "  a2n = {}\n",
        "  for a,n in zip(alphabet,range(states)):\n",
        "    a2n[a] = n\n",
        "\n",
        "  def aa2num(aa):\n",
        "    '''convert aa into num'''\n",
        "    if aa in a2n: return a2n[aa]\n",
        "    else: return a2n['-']\n",
        "  ################\n",
        "  \n",
        "  msa = []\n",
        "  for seq in seqs:\n",
        "    msa.append([aa2num(aa) for aa in seq])\n",
        "  msa_ori = np.array(msa)\n",
        "  return msa_ori, one_hot(msa_ori,states)"
      ],
      "execution_count": 0,
      "outputs": []
    },
    {
      "cell_type": "markdown",
      "metadata": {
        "id": "z8j_kpFSUeFT",
        "colab_type": "text"
      },
      "source": [
        "## load example"
      ]
    },
    {
      "cell_type": "code",
      "metadata": {
        "id": "Nn5oow4zP9ht",
        "colab_type": "code",
        "colab": {}
      },
      "source": [
        "!wget -q -nc https://gremlin2.bakerlab.org/db/PDB_EXP/fasta/4FAZA.fas"
      ],
      "execution_count": 0,
      "outputs": []
    },
    {
      "cell_type": "code",
      "metadata": {
        "id": "ipoWnWOCQryY",
        "colab_type": "code",
        "outputId": "cd4b7de2-1ec9-41f8-f9a1-feb1836bb773",
        "colab": {
          "base_uri": "https://localhost:8080/",
          "height": 51
        }
      },
      "source": [
        "names,seqs = parse_fasta(\"4FAZA.fas\")\n",
        "msa_ori, msa = mk_msa(seqs)\n",
        "\n",
        "print(msa_ori.shape)\n",
        "print(msa.shape)"
      ],
      "execution_count": 12,
      "outputs": [
        {
          "output_type": "stream",
          "text": [
            "(817, 62)\n",
            "(817, 62, 21)\n"
          ],
          "name": "stdout"
        }
      ]
    },
    {
      "cell_type": "code",
      "metadata": {
        "id": "pnBsVzJZegja",
        "colab_type": "code",
        "colab": {}
      },
      "source": [
        "# collecting some information about input msa\n",
        "N = msa.shape[0] # number of sequences\n",
        "L = msa.shape[1] # length of sequence\n",
        "A = msa.shape[2] # number of states (or categories)\n"
      ],
      "execution_count": 0,
      "outputs": []
    },
    {
      "cell_type": "code",
      "metadata": {
        "id": "bJJ8IJm1nMHa",
        "colab_type": "code",
        "colab": {}
      },
      "source": [
        "class GREMLIN(torch.nn.Module):\n",
        "  def __init__(self,L,A):\n",
        "    super(GREMLIN, self).__init__()\n",
        "    self.W0 = torch.nn.Parameter(torch.zeros(L*A,L*A), requires_grad=True)\n",
        "    self.b0 = torch.nn.Parameter(torch.zeros(L*A), requires_grad=True)\n",
        "    self.MASK = (1.0 -torch.eye(L*A))\n",
        "  def forward(self,X):\n",
        "    X = X.reshape(-1,L*A)\n",
        "    W = (self.W0+self.W0)/2.0 * self.MASK\n",
        "   \n",
        "    MSA_pred = (X.mm(W)+self.b0).reshape(-1,L,A)\n",
        "    loss = torch.sum(- MSA_Input * F.log_softmax(MSA_pred, -1))\n",
        "    L2_w = torch.norm(W, 2) * 0.01 * 0.5 *L*A\n",
        "    L2_b = torch.norm(self.b0, 2) * 0.01\n",
        "    loss = loss + L2_w + L2_b\n",
        "    return loss"
      ],
      "execution_count": 0,
      "outputs": []
    },
    {
      "cell_type": "code",
      "metadata": {
        "id": "CxiVGgJ3oeY4",
        "colab_type": "code",
        "colab": {}
      },
      "source": [
        "class Model(torch.nn.Module):\n",
        "  def __init__(self,L,A):\n",
        "    super(Model, self).__init__()\n",
        "    self.GREMLIN_ = GREMLIN(L,A)\n",
        "    \n",
        "  def forward(self,X):\n",
        "    loss = self.GREMLIN_(X)\n",
        "    return loss"
      ],
      "execution_count": 0,
      "outputs": []
    },
    {
      "cell_type": "code",
      "metadata": {
        "id": "Kc3E-HiwVNoM",
        "colab_type": "code",
        "outputId": "49920257-52e2-42a3-9ed7-afe571df54a3",
        "colab": {
          "base_uri": "https://localhost:8080/",
          "height": 357
        }
      },
      "source": [
        "#enviroment setting\n",
        "device = torch.device(\"cuda:0\") # Uncomment this to run on GPU\n",
        "MSA_Input = torch.from_numpy(msa.astype(np.float32))\n",
        "\n",
        "model = Model(L,A)\n",
        "learning_rate = 0.1*np.log(N)/L\n",
        "optimizer = optim.Adam(model.parameters(), lr=learning_rate)\n",
        "\n",
        "\n",
        "for t in range(100):\n",
        "\n",
        "    loss = model(MSA_Input)      \n",
        "    optimizer.zero_grad()    \n",
        "    loss.backward()\n",
        "    optimizer.step()\n",
        "    \n",
        "    if (t) % (int(100/10)) == 0: \n",
        "      print(t, loss.item())\n",
        "    \n",
        "    "
      ],
      "execution_count": 25,
      "outputs": [
        {
          "output_type": "stream",
          "text": [
            "0 154214.890625\n",
            "10 36482.62890625\n",
            "20 19455.22265625\n",
            "30 11955.6513671875\n",
            "40 8538.9609375\n",
            "50 6748.056640625\n",
            "60 5665.28955078125\n",
            "70 4947.29931640625\n",
            "80 4436.43408203125\n",
            "90 4053.66455078125\n",
            "100 3755.9921875\n",
            "110 3517.734130859375\n",
            "120 3322.98828125\n",
            "130 3161.0341796875\n",
            "140 3024.6142578125\n",
            "150 2908.234619140625\n",
            "160 2807.994140625\n",
            "170 2720.871337890625\n",
            "180 2644.512939453125\n",
            "190 2577.124755859375\n"
          ],
          "name": "stdout"
        }
      ]
    },
    {
      "cell_type": "code",
      "metadata": {
        "id": "S-VKBpqUmdoC",
        "colab_type": "code",
        "colab": {}
      },
      "source": [
        "w = model.GREMLIN_.W0.detach().numpy()\n",
        "w = (w+w.T).reshape(L,A,L,A)"
      ],
      "execution_count": 0,
      "outputs": []
    },
    {
      "cell_type": "markdown",
      "metadata": {
        "id": "2VYRfajHSgv1",
        "colab_type": "text"
      },
      "source": [
        "## get contacts"
      ]
    },
    {
      "cell_type": "code",
      "metadata": {
        "id": "mTw-NPuCSESQ",
        "colab_type": "code",
        "colab": {}
      },
      "source": [
        "def get_mtx(W):\n",
        "  # l2norm of 20x20 matrices (note: we ignore gaps)\n",
        "  raw = np.sqrt(np.sum(np.square(W[:,:,:,:]),(1,3)))\n",
        "  np.fill_diagonal(raw,0)\n",
        "  # apc (average product correction)\n",
        "  ap = np.sum(raw,0,keepdims=True)*np.sum(raw,1,keepdims=True)/np.sum(raw)\n",
        "  apc = raw - ap\n",
        "  np.fill_diagonal(apc,0)\n",
        "  \n",
        "  return(raw,apc)"
      ],
      "execution_count": 0,
      "outputs": []
    },
    {
      "cell_type": "code",
      "metadata": {
        "id": "hjJrppRvS2pV",
        "colab_type": "code",
        "outputId": "0df2c660-e49b-41d6-cab1-35049d0e2cc8",
        "colab": {
          "base_uri": "https://localhost:8080/",
          "height": 318
        }
      },
      "source": [
        "raw, apc = get_mtx(w)\n",
        "\n",
        "plt.figure(figsize=(10,5))\n",
        "plt.subplot(1,2,1)\n",
        "plt.imshow(raw)\n",
        "plt.grid(False)\n",
        "plt.title(\"raw\")\n",
        "plt.subplot(1,2,2)\n",
        "plt.imshow(apc)\n",
        "plt.grid(False)\n",
        "plt.title(\"apc\")\n",
        "plt.show()"
      ],
      "execution_count": 28,
      "outputs": [
        {
          "output_type": "display_data",
          "data": {
            "image/png": "[encoded data removed]",
            "text/plain": [
              "<Figure size 720x360 with 2 Axes>"
            ]
          },
          "metadata": {
            "tags": [],
            "needs_background": "light"
          }
        }
      ]
    },
    {
      "cell_type": "code",
      "metadata": {
        "id": "-4xiwGLb50J2",
        "colab_type": "code",
        "colab": {}
      },
      "source": [
        ""
      ],
      "execution_count": 0,
      "outputs": []
    }
  ]
}