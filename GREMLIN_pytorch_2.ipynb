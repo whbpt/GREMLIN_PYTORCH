{
  "nbformat": 4,
  "nbformat_minor": 0,
  "metadata": {
    "colab": {
      "name": "GREMLIN_pytorch.ipynb",
      "provenance": [],
      "collapsed_sections": [],
      "toc_visible": true,
      "include_colab_link": true
    },
    "kernelspec": {
      "name": "python3",
      "display_name": "Python 3"
    },
    "accelerator": "GPU"
  },
  "cells": [
    {
      "cell_type": "markdown",
      "metadata": {
        "id": "view-in-github",
        "colab_type": "text"
      },
      "source": [
        "<a href=\"https://colab.research.google.com/github/whbpt/GREMLIN_PYTORCH/blob/master/GREMLIN_pytorch_2.ipynb\" target=\"_parent\"><img src=\"https://colab.research.google.com/assets/colab-badge.svg\" alt=\"Open In Colab\"/></a>"
      ]
    },
    {
      "cell_type": "markdown",
      "metadata": {
        "id": "3SHD25hwV_FA",
        "colab_type": "text"
      },
      "source": [
        "## GREMLIN_pytorch\n",
        "\n",
        "This is a bare minimum version of GREMLIN (no gap removal, etc), intended for educational/demo purposes.  For the full version see [GREMLIN_TF_v2.1](https://colab.research.google.com/github/sokrypton/GREMLIN_CPP/blob/master/GREMLIN_TF.ipynb) "
      ]
    },
    {
      "cell_type": "code",
      "metadata": {
        "id": "dyhXMSv5HbpK",
        "colab_type": "code",
        "colab": {}
      },
      "source": [
        "# ------------------------------------------------------------\n",
        "# \"THE BEERWARE LICENSE\" (Revision 42):\n",
        "# <so@g.harvard.edu> and <pkk382@g.harvard.edu> wrote this code.\n",
        "# As long as you retain this notice, you can do whatever you want\n",
        "# with this stuff. If we meet someday, and you think this stuff\n",
        "# is worth it, you can buy us a beer in return.\n",
        "# --Sergey Ovchinnikov and Peter Koo\n",
        "# ------------------------------------------------------------\n",
        "\n",
        "###reimplemented with pytorch by haobo wang, 20190323\n",
        "# \"THE APPLE CIDER LICENSE\" :\n",
        "# As long as you retain this notice, you can do whatever you want\n",
        "# with this stuff. If we meet someday, and you think this stuff\n",
        "# is worth it, you can buy me an apple cider in return."
      ],
      "execution_count": 0,
      "outputs": []
    },
    {
      "cell_type": "markdown",
      "metadata": {
        "id": "ZdGBxCYlURSw",
        "colab_type": "text"
      },
      "source": [
        "## Load some libraries"
      ]
    },
    {
      "cell_type": "code",
      "metadata": {
        "id": "aJcHKRLQQAS4",
        "colab_type": "code",
        "colab": {}
      },
      "source": [
        "import numpy as np\n",
        "import matplotlib.pylab as plt\n",
        "import torch\n",
        "import torch.nn.functional as F\n",
        "import torch.nn.modules as modules\n",
        "from torch.autograd import Variable\n",
        "from torch import optim"
      ],
      "execution_count": 0,
      "outputs": []
    },
    {
      "cell_type": "markdown",
      "metadata": {
        "id": "ijbQXxzlYKAk",
        "colab_type": "text"
      },
      "source": [
        "## Convert FASTA to MSA np.array()"
      ]
    },
    {
      "cell_type": "code",
      "metadata": {
        "id": "wU8Gzh1FQEZl",
        "colab_type": "code",
        "colab": {}
      },
      "source": [
        "def parse_fasta(filename):\n",
        "  '''function to parse fasta file'''\n",
        "  header = []\n",
        "  sequence = []\n",
        "  lines = open(filename, \"r\")\n",
        "  for line in lines:\n",
        "    line = line.rstrip()\n",
        "    if line[0] == \">\":\n",
        "      header.append(line[1:])\n",
        "      sequence.append([])\n",
        "    else:\n",
        "      sequence[-1].append(line)\n",
        "  lines.close()\n",
        "  sequence = [''.join(seq) for seq in sequence]\n",
        "  return np.array(header), np.array(sequence)\n",
        "\n",
        "def one_hot(msa,states):\n",
        "  one = np.eye(states)\n",
        "  return one[msa]\n",
        "\n",
        "def mk_msa(seqs):\n",
        "  '''one hot encode msa'''\n",
        "  \n",
        "  ################\n",
        "  alphabet = \"ARNDCQEGHILKMFPSTWYV-\"\n",
        "  states = len(alphabet)\n",
        "  a2n = {}\n",
        "  for a,n in zip(alphabet,range(states)):\n",
        "    a2n[a] = n\n",
        "\n",
        "  def aa2num(aa):\n",
        "    '''convert aa into num'''\n",
        "    if aa in a2n: return a2n[aa]\n",
        "    else: return a2n['-']\n",
        "  ################\n",
        "  \n",
        "  msa = []\n",
        "  for seq in seqs:\n",
        "    msa.append([aa2num(aa) for aa in seq])\n",
        "  msa_ori = np.array(msa)\n",
        "  return msa_ori, one_hot(msa_ori,states)"
      ],
      "execution_count": 0,
      "outputs": []
    },
    {
      "cell_type": "markdown",
      "metadata": {
        "id": "z8j_kpFSUeFT",
        "colab_type": "text"
      },
      "source": [
        "## load example"
      ]
    },
    {
      "cell_type": "code",
      "metadata": {
        "id": "Nn5oow4zP9ht",
        "colab_type": "code",
        "colab": {}
      },
      "source": [
        "!wget -q -nc https://gremlin2.bakerlab.org/db/PDB_EXP/fasta/4FAZA.fas"
      ],
      "execution_count": 0,
      "outputs": []
    },
    {
      "cell_type": "code",
      "metadata": {
        "id": "ipoWnWOCQryY",
        "colab_type": "code",
        "outputId": "183b70be-82af-45ad-cca0-8070c61d5b47",
        "colab": {
          "base_uri": "https://localhost:8080/",
          "height": 52
        }
      },
      "source": [
        "names,seqs = parse_fasta(\"4FAZA.fas\")\n",
        "msa_ori, msa = mk_msa(seqs)\n",
        "\n",
        "print(msa_ori.shape)\n",
        "print(msa.shape)"
      ],
      "execution_count": 37,
      "outputs": [
        {
          "output_type": "stream",
          "text": [
            "(817, 62)\n",
            "(817, 62, 21)\n"
          ],
          "name": "stdout"
        }
      ]
    },
    {
      "cell_type": "code",
      "metadata": {
        "id": "pnBsVzJZegja",
        "colab_type": "code",
        "colab": {}
      },
      "source": [
        "# collecting some information about input msa\n",
        "N = msa.shape[0] # number of sequences\n",
        "L = msa.shape[1] # length of sequence\n",
        "A = msa.shape[2] # number of states (or categories)\n"
      ],
      "execution_count": 0,
      "outputs": []
    },
    {
      "cell_type": "code",
      "metadata": {
        "id": "bJJ8IJm1nMHa",
        "colab_type": "code",
        "colab": {}
      },
      "source": [
        "class GREMLIN(torch.nn.Module):\n",
        "  def __init__(self,L,A):\n",
        "    super(GREMLIN, self).__init__()\n",
        "    self.W0 = torch.nn.Parameter(torch.zeros(L*A,L*A), requires_grad=True)\n",
        "    self.b0 = torch.nn.Parameter(torch.zeros(L*A), requires_grad=True)\n",
        "    self.MASK = (1.0 -torch.eye(L*A))\n",
        "  def forward(self,X):\n",
        "    X = X.reshape(-1,L*A)\n",
        "    W = (self.W0+self.W0)/2.0 * self.MASK\n",
        "   \n",
        "    MSA_pred = (X.mm(W)+self.b0).reshape(-1,L,A)\n",
        "    loss = torch.sum(- MSA_Input * F.log_softmax(MSA_pred, -1))\n",
        "    L2_w = torch.norm(W, 2) * 0.01 * 0.5 *L*A\n",
        "    L2_b = torch.norm(self.b0, 2) * 0.01\n",
        "    loss = loss + L2_w + L2_b\n",
        "    return loss"
      ],
      "execution_count": 0,
      "outputs": []
    },
    {
      "cell_type": "code",
      "metadata": {
        "id": "CxiVGgJ3oeY4",
        "colab_type": "code",
        "colab": {}
      },
      "source": [
        "class Model(torch.nn.Module):\n",
        "  def __init__(self,L,A,K):\n",
        "    super(Model, self).__init__()\n",
        "    self.GREMLIN_ = GREMLIN(L,A)\n",
        "    \n",
        "  def forward(self,X):\n",
        "    loss = self.GREMLIN_(X)\n",
        "    return loss"
      ],
      "execution_count": 0,
      "outputs": []
    },
    {
      "cell_type": "code",
      "metadata": {
        "id": "Kc3E-HiwVNoM",
        "colab_type": "code",
        "outputId": "afbfc12e-a000-410a-9330-efd35015e648",
        "colab": {
          "base_uri": "https://localhost:8080/",
          "height": 367
        }
      },
      "source": [
        "#enviroment setting\n",
        "device = torch.device(\"cuda:0\") # Uncomment this to run on GPU\n",
        "MSA_Input = torch.from_numpy(msa.astype(np.float32))\n",
        "\n",
        "model = Model(L,A,K)\n",
        "learning_rate = 2.0\n",
        "optimizer = optim.Adam(model.parameters(), lr=learning_rate)\n",
        "\n",
        "\n",
        "for t in range(200):\n",
        "\n",
        "    loss = model(MSA)      \n",
        "    optimizer.zero_grad()    \n",
        "    loss.backward()\n",
        "    optimizer.step()\n",
        "    \n",
        "    if (t) % (int(100/10)) == 0: \n",
        "      print(t, loss.item())\n",
        "    \n",
        "    "
      ],
      "execution_count": 185,
      "outputs": [
        {
          "output_type": "stream",
          "text": [
            "0 154214.890625\n",
            "10 360436.3125\n",
            "20 105518.03125\n",
            "30 76003.7421875\n",
            "40 72504.8359375\n",
            "50 70480.1640625\n",
            "60 68077.796875\n",
            "70 65524.62109375\n",
            "80 62874.203125\n",
            "90 60266.0234375\n",
            "100 57695.87109375\n",
            "110 55198.11328125\n",
            "120 52719.14453125\n",
            "130 50326.84375\n",
            "140 47983.4140625\n",
            "150 45687.78125\n",
            "160 43451.55859375\n",
            "170 41294.640625\n",
            "180 39217.59375\n",
            "190 37215.765625\n"
          ],
          "name": "stdout"
        }
      ]
    },
    {
      "cell_type": "code",
      "metadata": {
        "id": "S-VKBpqUmdoC",
        "colab_type": "code",
        "colab": {}
      },
      "source": [
        "w = model.GREMLIN_.W0.detach().numpy()\n",
        "w = (w+w.T).reshape(L,A,L,A)"
      ],
      "execution_count": 0,
      "outputs": []
    },
    {
      "cell_type": "markdown",
      "metadata": {
        "id": "2VYRfajHSgv1",
        "colab_type": "text"
      },
      "source": [
        "## get contacts"
      ]
    },
    {
      "cell_type": "code",
      "metadata": {
        "id": "mTw-NPuCSESQ",
        "colab_type": "code",
        "colab": {}
      },
      "source": [
        "def get_mtx(W):\n",
        "  # l2norm of 20x20 matrices (note: we ignore gaps)\n",
        "  raw = np.sqrt(np.sum(np.square(W[:,:,:,:]),(1,3)))\n",
        "  np.fill_diagonal(raw,0)\n",
        "  # apc (average product correction)\n",
        "  ap = np.sum(raw,0,keepdims=True)*np.sum(raw,1,keepdims=True)/np.sum(raw)\n",
        "  apc = raw - ap\n",
        "  np.fill_diagonal(apc,0)\n",
        "  \n",
        "  return(raw,apc)"
      ],
      "execution_count": 0,
      "outputs": []
    },
    {
      "cell_type": "code",
      "metadata": {
        "id": "hjJrppRvS2pV",
        "colab_type": "code",
        "outputId": "bec8eb5f-82fb-4f46-b143-e8271445b048",
        "colab": {
          "base_uri": "https://localhost:8080/",
          "height": 318
        }
      },
      "source": [
        "raw, apc = get_mtx(w)\n",
        "\n",
        "plt.figure(figsize=(10,5))\n",
        "plt.subplot(1,2,1)\n",
        "plt.imshow(raw)\n",
        "plt.grid(False)\n",
        "plt.title(\"raw\")\n",
        "plt.subplot(1,2,2)\n",
        "plt.imshow(apc)\n",
        "plt.grid(False)\n",
        "plt.title(\"apc\")\n",
        "plt.show()"
      ],
      "execution_count": 188,
      "outputs": [
        {
          "output_type": "display_data",
          "data": {
            "image/png": "[encoded data removed]",
            "text/plain": [
              "<Figure size 720x360 with 2 Axes>"
            ]
          },
          "metadata": {
            "tags": []
          }
        }
      ]
    }
  ]
}